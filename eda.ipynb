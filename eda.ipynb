{
  "nbformat": 4,
  "nbformat_minor": 0,
  "metadata": {
    "colab": {
      "provenance": []
    },
    "kernelspec": {
      "name": "python3",
      "display_name": "Python 3"
    },
    "language_info": {
      "name": "python"
    }
  },
  "cells": [
    {
      "cell_type": "markdown",
      "source": [
        "# Credit Card Fraud Detection Project"
      ],
      "metadata": {
        "id": "YiczUYthfNHC"
      }
    },
    {
      "cell_type": "code",
      "source": [
        "import pandas as pd\n",
        "from imblearn.under_sampling import RandomUnderSampler\n",
        "from sklearn.preprocessing import OneHotEncoder, StandardScaler\n",
        "from sklearn.impute import SimpleImputer\n",
        "from sklearn.decomposition import PCA\n",
        "from sklearn.compose import ColumnTransformer\n",
        "from sklearn.pipeline import Pipeline\n",
        "from sklearn.ensemble import RandomForestClassifier\n",
        "from sklearn.model_selection import train_test_split\n",
        "from imblearn.under_sampling import RandomUnderSampler\n",
        "from sklearn.model_selection import GridSearchCV\n",
        "from sklearn.metrics import classification_report, confusion_matrix, accuracy_score\n",
        "from sklearn.model_selection import cross_val_score\n"
      ],
      "metadata": {
        "id": "sK7weyYUf-c0"
      },
      "execution_count": null,
      "outputs": []
    },
    {
      "cell_type": "markdown",
      "source": [
        "## Data Import"
      ],
      "metadata": {
        "id": "XYE2BsRNfJK4"
      }
    },
    {
      "cell_type": "code",
      "execution_count": 2,
      "metadata": {
        "colab": {
          "base_uri": "https://localhost:8080/"
        },
        "id": "kFPNgrxuKxar",
        "outputId": "93737b59-6b06-49c4-98a6-0c4ce07adaa2"
      },
      "outputs": [
        {
          "output_type": "execute_result",
          "data": {
            "text/plain": [
              "{'Transactions Data':       User  Card  Year  Month  Day   Time  Amount          Use Chip  \\\n",
              " 4136     0     0  2016      1    3  10:48  $66.48  Chip Transaction   \n",
              " 4137     0     0  2016      1    4  06:43  $40.02  Chip Transaction   \n",
              " 4138     0     0  2016      1    7  09:30  $54.11  Chip Transaction   \n",
              " 4139     0     0  2016      1    7  16:03  $89.48  Chip Transaction   \n",
              " 4140     0     0  2016      1   10  06:38  $29.15  Chip Transaction   \n",
              " \n",
              "             Merchant Name  Merchant City Merchant State      Zip   MCC  \\\n",
              " 4136 -3345936507911876459       La Verne             CA  91750.0  7538   \n",
              " 4137   -34551508091458520       La Verne             CA  91750.0  5912   \n",
              " 4138  4055257078481058705       La Verne             CA  91750.0  7538   \n",
              " 4139  3414527459579106770  Monterey Park             CA  91754.0  5651   \n",
              " 4140 -5475680618560174533  Monterey Park             CA  91755.0  5942   \n",
              " \n",
              "      Errors? Is Fraud?  \n",
              " 4136    None        No  \n",
              " 4137    None        No  \n",
              " 4138    None        No  \n",
              " 4139    None        No  \n",
              " 4140    None        No  ,\n",
              " 'Users Data':            Person  Current Age  Retirement Age  Birth Year  Birth Month  \\\n",
              " 0  Hazel Robinson           53              66        1966           11   \n",
              " 1      Sasha Sadr           53              68        1966           12   \n",
              " 2      Saanvi Lee           81              67        1938           11   \n",
              " 3   Everlee Clark           63              63        1957            1   \n",
              " 4   Kyle Peterson           43              70        1976            9   \n",
              " \n",
              "    Gender                   Address  Apartment           City State  Zipcode  \\\n",
              " 0  Female             462 Rose Lane        NaN       La Verne    CA    91750   \n",
              " 1  Female    3606 Federal Boulevard        NaN    Little Neck    NY    11363   \n",
              " 2  Female           766 Third Drive        NaN    West Covina    CA    91792   \n",
              " 3  Female          3 Madison Street        NaN       New York    NY    10069   \n",
              " 4    Male  9620 Valley Stream Drive        NaN  San Francisco    CA    94117   \n",
              " \n",
              "    Latitude  Longitude Per Capita Income - Zipcode Yearly Income - Person  \\\n",
              " 0     34.15    -117.76                      $29278                 $59696   \n",
              " 1     40.76     -73.74                      $37891                 $77254   \n",
              " 2     34.02    -117.89                      $22681                 $33483   \n",
              " 3     40.71     -73.99                     $163145                $249925   \n",
              " 4     37.76    -122.44                      $53797                $109687   \n",
              " \n",
              "   Total Debt  FICO Score  Num Credit Cards  \n",
              " 0    $127613         787                 5  \n",
              " 1    $191349         701                 5  \n",
              " 2       $196         698                 5  \n",
              " 3    $202328         722                 4  \n",
              " 4    $183855         675                 1  ,\n",
              " 'Cards Data':    User  CARD INDEX  Card Brand        Card Type       Card Number  Expires  \\\n",
              " 0     0           0        Visa            Debit  4344676511950444  12/2022   \n",
              " 1     0           1        Visa            Debit  4956965974959986  12/2020   \n",
              " 2     0           2        Visa            Debit  4582313478255491  02/2024   \n",
              " 3     0           3        Visa           Credit  4879494103069057  08/2024   \n",
              " 4     0           4  Mastercard  Debit (Prepaid)  5722874738736011  03/2009   \n",
              " \n",
              "    CVV Has Chip  Cards Issued Credit Limit Acct Open Date  \\\n",
              " 0  623      YES             2       $24295        09/2002   \n",
              " 1  393      YES             2       $21968        04/2014   \n",
              " 2  719      YES             2       $46414        07/2003   \n",
              " 3  693       NO             1       $12400        01/2003   \n",
              " 4   75      YES             1          $28        09/2008   \n",
              " \n",
              "    Year PIN last Changed Card on Dark Web  \n",
              " 0                   2008               No  \n",
              " 1                   2014               No  \n",
              " 2                   2004               No  \n",
              " 3                   2012               No  \n",
              " 4                   2009               No  }"
            ]
          },
          "metadata": {},
          "execution_count": 2
        }
      ],
      "source": [
        "\n",
        "# Load the datasets\n",
        "file_paths = {\n",
        "    'transactions': 'credit_card_transaction_data_de.parquet',\n",
        "    'users': 'credit_card_users_de.parquet',\n",
        "    'cards': 'sd254_cards_de.parquet'\n",
        "}\n",
        "\n",
        "# Read the Parquet files\n",
        "transactions_df = pd.read_parquet(file_paths['transactions'])\n",
        "users_df = pd.read_parquet(file_paths['users'])\n",
        "cards_df = pd.read_parquet(file_paths['cards'])\n",
        "\n",
        "# Display the first few rows of each dataframe to understand their structure\n",
        "dfs_preview = {\n",
        "    'Transactions Data': transactions_df.head(),\n",
        "    'Users Data': users_df.head(),\n",
        "    'Cards Data': cards_df.head()\n",
        "}\n",
        "\n",
        "dfs_preview"
      ]
    },
    {
      "cell_type": "markdown",
      "source": [
        "## Data Quality Assessment for Transactions Data"
      ],
      "metadata": {
        "id": "O9q-Z2ZHfZgk"
      }
    },
    {
      "cell_type": "code",
      "source": [
        "transactions_quality = {\n",
        "    \"Data Types\": transactions_df.dtypes,\n",
        "    \"Missing Values\": transactions_df.isnull().sum(),\n",
        "    \"Unique Values\": transactions_df.nunique()\n",
        "}\n",
        "\n",
        "# Statistical Summary for Transactions Data\n",
        "transactions_stats = transactions_df.describe(include='all', datetime_is_numeric=True)\n",
        "\n",
        "transactions_quality, transactions_stats\n"
      ],
      "metadata": {
        "colab": {
          "base_uri": "https://localhost:8080/"
        },
        "id": "5KOcvFt3geEl",
        "outputId": "c4004aa5-4563-49c8-d344-78e40d66448b"
      },
      "execution_count": 3,
      "outputs": [
        {
          "output_type": "execute_result",
          "data": {
            "text/plain": [
              "({'Data Types': User                int64\n",
              "  Card                int64\n",
              "  Year                int64\n",
              "  Month               int64\n",
              "  Day                 int64\n",
              "  Time               object\n",
              "  Amount             object\n",
              "  Use Chip           object\n",
              "  Merchant Name       int64\n",
              "  Merchant City      object\n",
              "  Merchant State     object\n",
              "  Zip               float64\n",
              "  MCC                 int64\n",
              "  Errors?            object\n",
              "  Is Fraud?          object\n",
              "  dtype: object,\n",
              "  'Missing Values': User                    0\n",
              "  Card                    0\n",
              "  Year                    0\n",
              "  Month                   0\n",
              "  Day                     0\n",
              "  Time                    0\n",
              "  Amount                  0\n",
              "  Use Chip                0\n",
              "  Merchant Name           0\n",
              "  Merchant City           0\n",
              "  Merchant State     860764\n",
              "  Zip                907586\n",
              "  MCC                     0\n",
              "  Errors?           6768768\n",
              "  Is Fraud?               0\n",
              "  dtype: int64,\n",
              "  'Unique Values': User               1610\n",
              "  Card                  9\n",
              "  Year                  4\n",
              "  Month                12\n",
              "  Day                  31\n",
              "  Time               1440\n",
              "  Amount            63770\n",
              "  Use Chip              3\n",
              "  Merchant Name     60343\n",
              "  Merchant City     11218\n",
              "  Merchant State      168\n",
              "  Zip               22584\n",
              "  MCC                 109\n",
              "  Errors?              21\n",
              "  Is Fraud?             2\n",
              "  dtype: int64},\n",
              "                 User          Card          Year         Month           Day  \\\n",
              " count   6.877837e+06  6.877837e+06  6.877837e+06  6.877837e+06  6.877837e+06   \n",
              " unique           NaN           NaN           NaN           NaN           NaN   \n",
              " top              NaN           NaN           NaN           NaN           NaN   \n",
              " freq             NaN           NaN           NaN           NaN           NaN   \n",
              " mean    1.006567e+03  1.279854e+00  2.017503e+03  6.528485e+00  1.572455e+01   \n",
              " std     5.703017e+02  1.367238e+00  1.117242e+00  3.446495e+00  8.796571e+00   \n",
              " min     0.000000e+00  0.000000e+00  2.016000e+03  1.000000e+00  1.000000e+00   \n",
              " 25%     5.170000e+02  0.000000e+00  2.017000e+03  4.000000e+00  8.000000e+00   \n",
              " 50%     1.011000e+03  1.000000e+00  2.018000e+03  7.000000e+00  1.600000e+01   \n",
              " 75%     1.487000e+03  2.000000e+00  2.019000e+03  1.000000e+01  2.300000e+01   \n",
              " max     1.999000e+03  8.000000e+00  2.019000e+03  1.200000e+01  3.100000e+01   \n",
              " \n",
              "            Time   Amount          Use Chip  Merchant Name Merchant City  \\\n",
              " count   6877837  6877837           6877837   6.877837e+06       6877837   \n",
              " unique     1440    63770                 3            NaN         11218   \n",
              " top       13:28   $80.00  Chip Transaction            NaN        ONLINE   \n",
              " freq       8728    67264           4854212            NaN        860764   \n",
              " mean        NaN      NaN               NaN  -4.896856e+17           NaN   \n",
              " std         NaN      NaN               NaN   4.765167e+18           NaN   \n",
              " min         NaN      NaN               NaN  -9.222899e+18           NaN   \n",
              " 25%         NaN      NaN               NaN  -4.530601e+18           NaN   \n",
              " 50%         NaN      NaN               NaN  -8.312016e+17           NaN   \n",
              " 75%         NaN      NaN               NaN   3.189517e+18           NaN   \n",
              " max         NaN      NaN               NaN   9.222877e+18           NaN   \n",
              " \n",
              "        Merchant State           Zip           MCC               Errors?  \\\n",
              " count         6017073  5.970251e+06  6.877837e+06                109069   \n",
              " unique            168           NaN           NaN                    21   \n",
              " top                CA           NaN           NaN  Insufficient Balance   \n",
              " freq           726357           NaN           NaN                 66878   \n",
              " mean              NaN  5.096169e+04  5.558895e+03                   NaN   \n",
              " std               NaN  2.940545e+04  8.811638e+02                   NaN   \n",
              " min               NaN  1.001000e+03  1.711000e+03                   NaN   \n",
              " 25%               NaN  2.830300e+04  5.300000e+03                   NaN   \n",
              " 50%               NaN  4.730400e+04  5.499000e+03                   NaN   \n",
              " 75%               NaN  7.753900e+04  5.812000e+03                   NaN   \n",
              " max               NaN  9.992800e+04  9.402000e+03                   NaN   \n",
              " \n",
              "        Is Fraud?  \n",
              " count    6877837  \n",
              " unique         2  \n",
              " top           No  \n",
              " freq     6869425  \n",
              " mean         NaN  \n",
              " std          NaN  \n",
              " min          NaN  \n",
              " 25%          NaN  \n",
              " 50%          NaN  \n",
              " 75%          NaN  \n",
              " max          NaN  )"
            ]
          },
          "metadata": {},
          "execution_count": 3
        }
      ]
    },
    {
      "cell_type": "markdown",
      "source": [
        "### Statistical Summary"
      ],
      "metadata": {
        "id": "Mq3e2IFDfi1G"
      }
    },
    {
      "cell_type": "code",
      "source": [
        "# Statistical Summary for Numerical Columns\n",
        "numerical_stats = transactions_df.describe()\n",
        "\n",
        "# Statistical Summary for Categorical Columns\n",
        "categorical_columns = transactions_df.select_dtypes(include=['object', 'category']).columns\n",
        "categorical_stats = transactions_df[categorical_columns].describe()\n",
        "\n",
        "print(\"\\nNumerical Stats:\\n\", numerical_stats)\n",
        "print(\"\\nCategorical Stats:\\n\", categorical_stats)\n"
      ],
      "metadata": {
        "colab": {
          "base_uri": "https://localhost:8080/"
        },
        "id": "j9NeKmS0greo",
        "outputId": "428ffc78-e422-4d61-8375-5ce9f8ab333a"
      },
      "execution_count": 5,
      "outputs": [
        {
          "output_type": "stream",
          "name": "stdout",
          "text": [
            "\n",
            "Numerical Stats:\n",
            "                User          Card          Year         Month           Day  \\\n",
            "count  6.877837e+06  6.877837e+06  6.877837e+06  6.877837e+06  6.877837e+06   \n",
            "mean   1.006567e+03  1.279854e+00  2.017503e+03  6.528485e+00  1.572455e+01   \n",
            "std    5.703017e+02  1.367238e+00  1.117242e+00  3.446495e+00  8.796571e+00   \n",
            "min    0.000000e+00  0.000000e+00  2.016000e+03  1.000000e+00  1.000000e+00   \n",
            "25%    5.170000e+02  0.000000e+00  2.017000e+03  4.000000e+00  8.000000e+00   \n",
            "50%    1.011000e+03  1.000000e+00  2.018000e+03  7.000000e+00  1.600000e+01   \n",
            "75%    1.487000e+03  2.000000e+00  2.019000e+03  1.000000e+01  2.300000e+01   \n",
            "max    1.999000e+03  8.000000e+00  2.019000e+03  1.200000e+01  3.100000e+01   \n",
            "\n",
            "       Merchant Name           Zip           MCC  \n",
            "count   6.877837e+06  5.970251e+06  6.877837e+06  \n",
            "mean   -4.896856e+17  5.096169e+04  5.558895e+03  \n",
            "std     4.765167e+18  2.940545e+04  8.811638e+02  \n",
            "min    -9.222899e+18  1.001000e+03  1.711000e+03  \n",
            "25%    -4.530601e+18  2.830300e+04  5.300000e+03  \n",
            "50%    -8.312016e+17  4.730400e+04  5.499000e+03  \n",
            "75%     3.189517e+18  7.753900e+04  5.812000e+03  \n",
            "max     9.222877e+18  9.992800e+04  9.402000e+03  \n",
            "\n",
            "Categorical Stats:\n",
            "            Time   Amount          Use Chip Merchant City Merchant State  \\\n",
            "count   6877837  6877837           6877837       6877837        6017073   \n",
            "unique     1440    63770                 3         11218            168   \n",
            "top       13:28   $80.00  Chip Transaction        ONLINE             CA   \n",
            "freq       8728    67264           4854212        860764         726357   \n",
            "\n",
            "                     Errors? Is Fraud?  \n",
            "count                 109069   6877837  \n",
            "unique                    21         2  \n",
            "top     Insufficient Balance        No  \n",
            "freq                   66878   6869425  \n"
          ]
        }
      ]
    },
    {
      "cell_type": "markdown",
      "source": [
        "### Handling Imbalanced Data"
      ],
      "metadata": {
        "id": "ZR3uAFTdgPrd"
      }
    },
    {
      "cell_type": "code",
      "source": [
        "# Defining your features and target variable\n",
        "X = transactions_df.drop('Is Fraud?', axis=1)  # Assuming you've already encoded categorical variables\n",
        "y = transactions_df['Is Fraud?'].map({'Yes': 1, 'No': 0})  # Converting to binary\n",
        "\n",
        "# Applying undersampling\n",
        "undersampler = RandomUnderSampler(random_state=42)\n",
        "X_resampled, y_resampled = undersampler.fit_resample(X, y)\n",
        "\n",
        "# Now, X_resampled and y_resampled can be used for model training\n"
      ],
      "metadata": {
        "id": "eyNSCibOg9zE"
      },
      "execution_count": 9,
      "outputs": []
    },
    {
      "cell_type": "code",
      "source": [
        "# Split the data into training and test sets\n",
        "X_train, X_test, y_train, y_test = train_test_split(X_resampled, y_resampled, test_size=0.3, random_state=42)\n",
        "\n",
        "# Identify categorical and numerical columns\n",
        "categorical_cols = [col for col in X.columns if X[col].dtype == 'object']\n",
        "numerical_cols = [col for col in X.columns if X[col].dtype in ['int64', 'float64']]\n",
        "\n",
        "# Imputers for numerical and categorical data\n",
        "numerical_imputer = SimpleImputer(strategy='mean')\n",
        "categorical_imputer = SimpleImputer(strategy='most_frequent')\n",
        "\n",
        "# Create transformers for categorical and numerical data\n",
        "categorical_transformer = Pipeline(steps=[\n",
        "    ('imputer', categorical_imputer),\n",
        "    ('encoder', OneHotEncoder(handle_unknown='ignore'))\n",
        "])\n",
        "\n",
        "numerical_transformer = Pipeline(steps=[\n",
        "    ('imputer', numerical_imputer),\n",
        "    ('scaler', StandardScaler()),\n",
        "    ('pca', PCA(n_components=0.95))  # Keep 95% of variance\n",
        "])\n",
        "\n",
        "# Combine transformers into a preprocessor\n",
        "preprocessor = ColumnTransformer(\n",
        "    transformers=[\n",
        "        ('num', numerical_transformer, numerical_cols),\n",
        "        ('cat', categorical_transformer, categorical_cols)\n",
        "    ])\n",
        "\n",
        "# Create a preprocessing and modeling pipeline\n",
        "model = Pipeline(steps=[\n",
        "    ('preprocessor', preprocessor),\n",
        "    ('classifier', RandomForestClassifier())\n",
        "])\n",
        "\n",
        "# Fit the model with the resampled training data\n",
        "model.fit(X_train, y_train)\n",
        "\n",
        "# Predictions and evaluations using the test data\n",
        "y_pred = model.predict(X_test)\n"
      ],
      "metadata": {
        "id": "J8RqSFgJsgCD"
      },
      "execution_count": 10,
      "outputs": []
    },
    {
      "cell_type": "code",
      "source": [
        "# Evaluation\n",
        "print(classification_report(y_test, y_pred))\n",
        "print(confusion_matrix(y_test, y_pred))"
      ],
      "metadata": {
        "colab": {
          "base_uri": "https://localhost:8080/"
        },
        "id": "VSjFlXZIhde7",
        "outputId": "132ea3ab-34dc-4e9e-98a7-655542e3ee34"
      },
      "execution_count": 11,
      "outputs": [
        {
          "output_type": "stream",
          "name": "stdout",
          "text": [
            "              precision    recall  f1-score   support\n",
            "\n",
            "           0       0.94      0.94      0.94      2561\n",
            "           1       0.93      0.94      0.94      2487\n",
            "\n",
            "    accuracy                           0.94      5048\n",
            "   macro avg       0.94      0.94      0.94      5048\n",
            "weighted avg       0.94      0.94      0.94      5048\n",
            "\n",
            "[[2396  165]\n",
            " [ 150 2337]]\n"
          ]
        }
      ]
    },
    {
      "cell_type": "markdown",
      "source": [
        "## Model Tuning"
      ],
      "metadata": {
        "id": "KNdt26-SguHU"
      }
    },
    {
      "cell_type": "code",
      "source": [
        "# Define the parameter grid\n",
        "param_grid = {\n",
        "    'preprocessor__num__pca__n_components': [0.95, 0.99],  # Percentage of variance to keep\n",
        "    'classifier__n_estimators': [100, 200],  # Number of trees in the forest\n",
        "    'classifier__max_depth': [None, 10, 20]  # Maximum depth of the tree\n",
        "}\n",
        "\n",
        "# Create the GridSearchCV object\n",
        "grid_search = GridSearchCV(model, param_grid, cv=3, scoring='recall', n_jobs=-1)\n",
        "\n",
        "# Fit the grid search to the data\n",
        "grid_search.fit(X_train, y_train)\n",
        "\n",
        "# Best parameters and best model\n",
        "best_params = grid_search.best_params_\n",
        "best_model = grid_search.best_estimator_\n",
        "\n",
        "print(\"Best parameters:\", best_params)\n",
        "\n",
        "# Use best_model for predictions and further analysis\n",
        "y_pred = best_model.predict(X_test)\n",
        "\n",
        "# Evaluation Metrics\n",
        "print(\"Accuracy:\", accuracy_score(y_test, y_pred))\n",
        "print(\"Classification Report:\")\n",
        "print(classification_report(y_test, y_pred))\n",
        "print(\"Confusion Matrix:\")\n",
        "print(confusion_matrix(y_test, y_pred))\n"
      ],
      "metadata": {
        "colab": {
          "base_uri": "https://localhost:8080/"
        },
        "id": "6vjGTNNPhi4P",
        "outputId": "018d4352-3970-48af-c637-1aceacc02b2b"
      },
      "execution_count": 13,
      "outputs": [
        {
          "output_type": "stream",
          "name": "stdout",
          "text": [
            "Best parameters: {'classifier__max_depth': 10, 'classifier__n_estimators': 100, 'preprocessor__num__pca__n_components': 0.99}\n",
            "Accuracy: 0.9072900158478605\n",
            "Classification Report:\n",
            "              precision    recall  f1-score   support\n",
            "\n",
            "           0       0.94      0.87      0.91      2561\n",
            "           1       0.88      0.94      0.91      2487\n",
            "\n",
            "    accuracy                           0.91      5048\n",
            "   macro avg       0.91      0.91      0.91      5048\n",
            "weighted avg       0.91      0.91      0.91      5048\n",
            "\n",
            "Confusion Matrix:\n",
            "[[2239  322]\n",
            " [ 146 2341]]\n"
          ]
        }
      ]
    },
    {
      "cell_type": "markdown",
      "source": [
        "## Feature Importance"
      ],
      "metadata": {
        "id": "wwBogrEIg3HJ"
      }
    },
    {
      "cell_type": "code",
      "source": [
        "importances = best_model.named_steps['classifier'].feature_importances_\n",
        "\n",
        "# You might need to adjust the following to properly align with your preprocessed feature names\n",
        "feature_names = best_model.named_steps['preprocessor'].transformers_[0][2] + \\\n",
        "                best_model.named_steps['preprocessor'].transformers_[1][1].get_feature_names_out().tolist()\n",
        "\n",
        "feature_importances = pd.Series(importances, index=feature_names)\n",
        "print(feature_importances.sort_values(ascending=False).head(10))  # Top 10 features\n"
      ],
      "metadata": {
        "colab": {
          "base_uri": "https://localhost:8080/"
        },
        "id": "wvMK9-STyc1C",
        "outputId": "19a1730a-da79-4e0c-c8c3-2714420aadbf"
      },
      "execution_count": 14,
      "outputs": [
        {
          "output_type": "stream",
          "name": "stdout",
          "text": [
            "Merchant City_Rome             0.075669\n",
            "Merchant State_None            0.061567\n",
            "Use Chip_Chip Transaction      0.047838\n",
            "Year                           0.046680\n",
            "Merchant State_TX              0.044045\n",
            "Use Chip_Online Transaction    0.041655\n",
            "Merchant State_CA              0.034845\n",
            "Merchant State_Italy           0.030111\n",
            "Merchant City_ONLINE           0.028727\n",
            "Merchant State_FL              0.025445\n",
            "dtype: float64\n"
          ]
        }
      ]
    },
    {
      "cell_type": "markdown",
      "source": [
        "## Cross Validation"
      ],
      "metadata": {
        "id": "cmoSfLQlg_F1"
      }
    },
    {
      "cell_type": "code",
      "source": [
        "\n",
        "# Perform cross-validation\n",
        "cv_scores = cross_val_score(best_model, X_resampled, y_resampled, cv=5, scoring='recall')\n",
        "print(\"CV Recall Scores:\", cv_scores)\n"
      ],
      "metadata": {
        "colab": {
          "base_uri": "https://localhost:8080/"
        },
        "id": "Uv0W8LE7y0lq",
        "outputId": "60671d89-fdd3-49bf-860f-c9d9be35c86e"
      },
      "execution_count": 15,
      "outputs": [
        {
          "output_type": "stream",
          "name": "stdout",
          "text": [
            "CV Recall Scores: [0.9411415  0.93103448 0.93701723 0.9275104  0.9411415 ]\n"
          ]
        }
      ]
    },
    {
      "cell_type": "markdown",
      "source": [
        "### Interpretation of Feature Importance\n",
        "- **Merchant City_Rome and Merchant State_None**: A high importance score for specific locations (like Rome) and transactions without a specified state suggests that the location of the transaction, or the lack thereof, is a significant factor in predicting fraud.\n",
        "- **Use Chip_Chip Transaction and Use Chip_Online Transaction**: The method of transaction (whether it's a chip transaction or an online transaction) also plays a crucial role. This could indicate different patterns of fraud in physical versus online transactions.\n",
        "- **Year**: The year of the transaction is significant, which might suggest evolving patterns of fraud over time.\n",
        "- **Merchant State_TX, CA, Italy, FL**: Specific states and countries appearing as important features indicate that transactions from these locations have distinct patterns that influence the model's fraud prediction.\n",
        "\n",
        "### Next Steps\n",
        "1. **Deep Dive into Key Features**:\n",
        "   - Conduct a more detailed analysis of the top features to understand their specific relationship with fraudulent transactions. For example, explore why transactions in Rome or without a specified state are more likely to be fraudulent.\n",
        "\n",
        "2. **Model Refinement**:\n",
        "   - Based on these insights, consider refining your model. For instance, you might develop specialized models for certain high-risk locations or transaction types.\n",
        "   - Experiment with excluding or giving more focus to certain features and observe the impact on model performance.\n",
        "\n",
        "3. **Temporal Analysis**:\n",
        "   - Since 'Year' is an important feature, explore how fraud trends have changed over the years. This could inform strategies for updating the model periodically.\n",
        "\n",
        "4. **Business Strategy**:\n",
        "   - Share these insights with relevant stakeholders (e.g., fraud prevention teams). They could help in developing targeted strategies for fraud prevention, especially in the areas identified as high risk.\n",
        "   - Consider additional measures for transactions that are flagged as high risk by these key features.\n",
        "\n",
        "5. **Model Deployment and Monitoring**:\n",
        "   - If the model is to be deployed, ensure there is a system for continuous monitoring and updating, as fraud patterns can evolve.\n",
        "   - Regularly retrain the model with new data to capture the latest trends in fraudulent activity.\n",
        "\n",
        "6. **Reporting**:\n",
        "   - Prepare a detailed report or presentation for stakeholders, highlighting how these key features influence fraud prediction and what actions can be taken based on these insights."
      ],
      "metadata": {
        "id": "bLfmtdBsjgbt"
      }
    },
    {
      "cell_type": "markdown",
      "source": [],
      "metadata": {
        "id": "V_NPYn3fj6iX"
      }
    }
  ]
}